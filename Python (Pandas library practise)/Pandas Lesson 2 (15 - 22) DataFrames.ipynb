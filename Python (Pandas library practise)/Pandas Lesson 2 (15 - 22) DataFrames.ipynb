{
 "cells": [
  {
   "cell_type": "markdown",
   "metadata": {},
   "source": [
    "# DATAFRAME"
   ]
  },
  {
   "cell_type": "code",
   "execution_count": null,
   "metadata": {},
   "outputs": [],
   "source": [
    "# Series mn sirf 1 hi column hta tha\n",
    "# dataframe mn multiple columns show krskty hain\n",
    "# if we merge 2 series then it will be converted into a DataFrame\n",
    "# vids mn jo slides show kr rha hai woh bhi prhlna\n"
   ]
  },
  {
   "cell_type": "code",
   "execution_count": 1,
   "metadata": {
    "scrolled": true
   },
   "outputs": [
    {
     "name": "stdout",
     "output_type": "stream",
     "text": [
      "   apples  oranges\n",
      "0      10       50\n",
      "1      20       60\n",
      "2      30       70\n",
      "3      40       80\n"
     ]
    }
   ],
   "source": [
    "# New function Dataframe()\n",
    "# merging 2 series to form dataframe\n",
    "\n",
    "import pandas as pd\n",
    "import numpy as np\n",
    "\n",
    "apples = pd.Series([10,20,30,40])\n",
    "oranges = pd.Series([50,60,70,80])\n",
    "\n",
    "#print (apples,'\\n',oranges)\n",
    "\n",
    "# we are saving our series in Dictionary first, giving each column their name\n",
    "data = {'apples': apples, 'oranges': oranges}\n",
    "our_df = pd.DataFrame(data)\n",
    "print(our_df)\n"
   ]
  },
  {
   "cell_type": "code",
   "execution_count": 3,
   "metadata": {},
   "outputs": [
    {
     "name": "stdout",
     "output_type": "stream",
     "text": [
      "        city  code province\n",
      "0    Karachi    11    Sindh\n",
      "1     Lahore    22   Punjab\n",
      "2  Islamabad    33   Punjab\n",
      "3  Hyderabad    44    Sindh\n"
     ]
    }
   ],
   "source": [
    "# Dictionary k ander List bnae then usko DataFrame mn change krdea\n",
    "# alag sey list bnakr bhi kr skty hu\n",
    "\n",
    "#city = ['Karachi', 'Lahore', 'Islamabad', 'Hyderabad']\n",
    "\n",
    "data1 = {#'city': city,\n",
    "         'city': ['Karachi', 'Lahore', 'Islamabad', 'Hyderabad'],\n",
    "         'code': [11, 22, 33, 44],\n",
    "         'province': ['Sindh', 'Punjab', 'Punjab', 'Sindh']}\n",
    "\n",
    "our_df1 = pd.DataFrame(data1)\n",
    "print (our_df1)\n",
    "\n"
   ]
  },
  {
   "cell_type": "code",
   "execution_count": 4,
   "metadata": {},
   "outputs": [
    {
     "name": "stdout",
     "output_type": "stream",
     "text": [
      "          city  code province\n",
      "1st    Karachi    11    Sindh\n",
      "2nd     Lahore    22   Punjab\n",
      "3rd  Islamabad    33   Punjab\n",
      "4th  Hyderabad    44    Sindh\n"
     ]
    }
   ],
   "source": [
    "# how to give index names to dataframes\n",
    "# jtni rows hain utne hi indexes dena lazmi hai wrna error ajaega\n",
    "\n",
    "our_df2 = pd.DataFrame (data1, index = ['1st', '2nd', '3rd', '4th'])\n",
    "print (our_df2)"
   ]
  },
  {
   "cell_type": "code",
   "execution_count": 5,
   "metadata": {},
   "outputs": [
    {
     "name": "stdout",
     "output_type": "stream",
     "text": [
      "          city  code province\n",
      "1st    Karachi    11    Sindh\n",
      "2nd     Lahore    22   Punjab\n",
      "3rd  Islamabad    33   Punjab\n",
      "4th  Hyderabad    44    Sindh\n"
     ]
    }
   ],
   "source": [
    "# agr apka data bht ziada hai and top 5 rows print krni hai sirf \n",
    "# new Function head()\n",
    "\n",
    "print (our_df2.head())"
   ]
  },
  {
   "cell_type": "code",
   "execution_count": 8,
   "metadata": {},
   "outputs": [
    {
     "name": "stdout",
     "output_type": "stream",
     "text": [
      "   code province       city\n",
      "0    11    Sindh    Karachi\n",
      "1    22   Punjab     Lahore\n",
      "2    33   Punjab  Islamabad\n",
      "3    44    Sindh  Hyderabad\n"
     ]
    }
   ],
   "source": [
    "# columns ki arrangement bhi change krskty hain\n",
    "\n",
    "data2 = {'city': ['Karachi', 'Lahore', 'Islamabad', 'Hyderabad'],\n",
    "         'code': [11, 22, 33, 44],\n",
    "         'province': ['Sindh', 'Punjab', 'Punjab', 'Sindh']}\n",
    "\n",
    "our_df3 = pd.DataFrame(data2, columns = ['code', 'province', 'city'])\n",
    "print (our_df3)"
   ]
  },
  {
   "cell_type": "code",
   "execution_count": 5,
   "metadata": {},
   "outputs": [
    {
     "name": "stdout",
     "output_type": "stream",
     "text": [
      "     code province       city country\n",
      "1st    11    Sindh    Karachi     NaN\n",
      "2nd    22   Punjab     Lahore     NaN\n",
      "3rd    33   Punjab  Islamabad     NaN\n",
      "4th    44    Sindh  Hyderabad     NaN\n"
     ]
    }
   ],
   "source": [
    "# how to add an empty column\n",
    "\n",
    "our_df4 = pd.DataFrame(data2, index = ['1st', '2nd', '3rd', '4th'], columns = ['code', 'province', 'city', 'country'])\n",
    "print (our_df4)\n"
   ]
  },
  {
   "cell_type": "code",
   "execution_count": 49,
   "metadata": {},
   "outputs": [
    {
     "name": "stdout",
     "output_type": "stream",
     "text": [
      "Index(['code', 'province', 'city', 'country'], dtype='object')\n",
      "Index(['1st', '2nd', '3rd', '4th'], dtype='object')\n"
     ]
    }
   ],
   "source": [
    "# how to print the names of columns and index\n",
    "print(our_df4.columns)\n",
    "print(our_df4.index)"
   ]
  },
  {
   "cell_type": "markdown",
   "metadata": {},
   "source": [
    "# Retrieving Data from DataFrame\n",
    "## dictionary ki tarah krskty hain ya attribute ki tarah"
   ]
  },
  {
   "cell_type": "code",
   "execution_count": 56,
   "metadata": {},
   "outputs": [
    {
     "name": "stdout",
     "output_type": "stream",
     "text": [
      "1st      Karachi\n",
      "2nd       Lahore\n",
      "3rd    Islamabad\n",
      "4th    Hyderabad\n",
      "Name: city, dtype: object\n",
      "\n",
      "1st      Karachi\n",
      "2nd       Lahore\n",
      "3rd    Islamabad\n",
      "4th    Hyderabad\n",
      "Name: city, dtype: object\n"
     ]
    }
   ],
   "source": [
    "# Retrieve Column of DataFrame using Dictionary like notation\n",
    "print (our_df4['city'])\n",
    "\n",
    "print()\n",
    "\n",
    "# Retieve Column of DataFrame using Attribute like style\n",
    "print (our_df4.city)"
   ]
  },
  {
   "cell_type": "code",
   "execution_count": 6,
   "metadata": {},
   "outputs": [
    {
     "name": "stdout",
     "output_type": "stream",
     "text": [
      "          city  code province\n",
      "1st    Karachi    11    Sindh\n",
      "2nd     Lahore    22   Punjab\n",
      "3rd  Islamabad    33   Punjab\n",
      "4th  Hyderabad    44    Sindh\n",
      "\n",
      "city        Islamabad\n",
      "code               33\n",
      "province       Punjab\n",
      "Name: 3rd, dtype: object\n",
      "\n",
      "city        Lahore\n",
      "code            22\n",
      "province    Punjab\n",
      "Name: 1, dtype: object\n"
     ]
    }
   ],
   "source": [
    "data3 = {'city': ['Karachi', 'Lahore', 'Islamabad', 'Hyderabad'],\n",
    "         'code': [11, 22, 33, 44],\n",
    "         'province': ['Sindh', 'Punjab', 'Punjab', 'Sindh']}\n",
    "our_df5 = pd.DataFrame(data3, index = ['1st', '2nd', '3rd', '4th'])\n",
    "print (our_df5)\n",
    "\n",
    "print ()\n",
    "\n",
    "# Retrieving Data row wise using our given Index names\n",
    "# new command loc[] , location full form\n",
    "print (our_df5.loc['3rd'])\n",
    "\n",
    "print ()\n",
    "\n",
    "# Retrieving Data row wise using computer given Index number, index number starts with 0\n",
    "our_df6 = pd.DataFrame(data3)\n",
    "print (our_df6.loc[1])"
   ]
  },
  {
   "cell_type": "code",
   "execution_count": 24,
   "metadata": {},
   "outputs": [
    {
     "name": "stdout",
     "output_type": "stream",
     "text": [
      "          city  code province extra_c\n",
      "1st    Karachi    11    Sindh     NaN\n",
      "2nd     Lahore    22   Punjab     NaN\n",
      "3rd  Islamabad    33   Punjab     NaN\n",
      "4th  Hyderabad    44    Sindh     NaN\n",
      "[0 1 2 3]\n",
      "          city  code province  extra_c\n",
      "1st    Karachi    11    Sindh        0\n",
      "2nd     Lahore    22   Punjab        1\n",
      "3rd  Islamabad    33   Punjab        2\n",
      "4th  Hyderabad    44    Sindh        3\n",
      "          city  code province  extra_c\n",
      "1st    Karachi    11    Sindh        4\n",
      "2nd     Lahore    22   Punjab        4\n",
      "3rd  Islamabad    33   Punjab        4\n",
      "4th  Hyderabad    44    Sindh        4\n",
      "          city  code province extra_c\n",
      "1st    Karachi    11    Sindh     rng\n",
      "2nd     Lahore    22   Punjab     rng\n",
      "3rd  Islamabad    33   Punjab     rng\n",
      "4th  Hyderabad    44    Sindh     rng\n",
      "          city  code province extra_c  extra_d\n",
      "1st    Karachi    11    Sindh     rng      100\n",
      "2nd     Lahore    22   Punjab     rng      200\n",
      "3rd  Islamabad    33   Punjab     rng      300\n",
      "4th  Hyderabad    44    Sindh     rng      400\n"
     ]
    }
   ],
   "source": [
    "# start from 22\n",
    "# creating dict, adding it to dataframe, adding an extra column through dataframe (values of that column will be NaN)\n",
    "\n",
    "data4 = {'city': ['Karachi', 'Lahore', 'Islamabad', 'Hyderabad'],\n",
    "         'code': [11, 22, 33, 44],\n",
    "         'province': ['Sindh', 'Punjab', 'Punjab', 'Sindh']}\n",
    "our_df6 = pd.DataFrame(data4, columns = ['city', 'code', 'province', 'extra_c'] , index = ['1st', '2nd', '3rd', '4th'])\n",
    "print (our_df6)\n",
    "\n",
    "# adding values to that column (NaN column)\n",
    "\n",
    "# through range (ksi bhi column pr apply hjaega)\n",
    "rng = np.arange(4)\n",
    "print (rng)\n",
    "our_df6 ['extra_c'] = rng\n",
    "print (our_df6)\n",
    "\n",
    "#through length of our dataframe ((ksi bhi column pr apply hjaega))\n",
    "ln = len(our_df6)\n",
    "our_df6 ['extra_c'] = ln\n",
    "print (our_df6)\n",
    "\n",
    "our_df6 ['extra_c'] = 'rng'\n",
    "print (our_df6)\n",
    "\n",
    "#creating series and adding that to column (index name jo hai DataFrame k same naam dalna zarori hai) ((ksi bhi column pr apply hjaega))\n",
    "a = pd.Series([100,200,300,400], index = ['1st','2nd','3rd','4th'])\n",
    "our_df6 ['extra_d'] = a\n",
    "print (our_df6)\n",
    "\n",
    "# dataframe k column mn list,numpy array, single value, string, pd.Series( indez names should be same)"
   ]
  },
  {
   "cell_type": "code",
   "execution_count": null,
   "metadata": {},
   "outputs": [],
   "source": []
  }
 ],
 "metadata": {
  "kernelspec": {
   "display_name": "Python 3",
   "language": "python",
   "name": "python3"
  },
  "language_info": {
   "codemirror_mode": {
    "name": "ipython",
    "version": 3
   },
   "file_extension": ".py",
   "mimetype": "text/x-python",
   "name": "python",
   "nbconvert_exporter": "python",
   "pygments_lexer": "ipython3",
   "version": "3.7.1"
  }
 },
 "nbformat": 4,
 "nbformat_minor": 2
}

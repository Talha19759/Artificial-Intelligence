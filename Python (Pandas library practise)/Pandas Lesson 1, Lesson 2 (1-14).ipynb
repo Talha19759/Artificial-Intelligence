{
 "cells": [
  {
   "cell_type": "code",
   "execution_count": 2,
   "metadata": {},
   "outputs": [
    {
     "name": "stdout",
     "output_type": "stream",
     "text": [
      "0     1\n",
      "1     5\n",
      "2    11\n",
      "3     2\n",
      "4    -6\n",
      "dtype: int64\n"
     ]
    }
   ],
   "source": [
    "# pandas ki library import krwae\n",
    "# then aik series bnae jo k tabular form hai\n",
    "#khayal rkhu Series start with capital S\n",
    "import pandas as pd\n",
    "obj = pd.Series([1,5,11,2,-6])\n",
    "print (obj)"
   ]
  },
  {
   "cell_type": "code",
   "execution_count": 3,
   "metadata": {},
   "outputs": [],
   "source": [
    "#pandas series and has two things\n",
    "# values (0,1,2,3,4) khudi assign hgya and index (1,5,11,2,-6) series sey enter kra"
   ]
  },
  {
   "cell_type": "code",
   "execution_count": 9,
   "metadata": {},
   "outputs": [
    {
     "name": "stdout",
     "output_type": "stream",
     "text": [
      "values: [100 200 300 400]\n",
      "index: RangeIndex(start=0, stop=4, step=1)\n"
     ]
    }
   ],
   "source": [
    "sales = pd.Series([100,200,300,400])\n",
    "#values and index ki example, khayal rkhu s bhi ata hai end mm\n",
    "print (\"values:\",sales.values)\n",
    "print (\"index:\",sales.index)"
   ]
  },
  {
   "cell_type": "code",
   "execution_count": 12,
   "metadata": {},
   "outputs": [
    {
     "name": "stdout",
     "output_type": "stream",
     "text": [
      "a    11\n",
      "b    22\n",
      "c    33\n",
      "d    44\n",
      "dtype: int64\n",
      "Index(['a', 'b', 'c', 'd'], dtype='object')\n"
     ]
    }
   ],
   "source": [
    "# hum index khud sey bhi assign krskty hain (numerical or text form)\n",
    "# dtype = object (it means k jb bhi koi complex data type dkhti hai tu usko object k naam dedeta hai)\n",
    "sales2 = pd.Series([11,22,33,44], index = ['a', 'b', 'c', 'd'])\n",
    "print (sales2)\n",
    "print (sales2.index)"
   ]
  },
  {
   "cell_type": "code",
   "execution_count": 13,
   "metadata": {},
   "outputs": [
    {
     "name": "stdout",
     "output_type": "stream",
     "text": [
      "a     3\n",
      "b     5\n",
      "c    67\n",
      "d    24\n",
      "Name: FOUR MONTHS SALE, dtype: int64\n"
     ]
    }
   ],
   "source": [
    "# how to name your table\n",
    "sales3 = pd.Series ([3,5,67,24], index = ['a', 'b', 'c', 'd'], name = \"FOUR MONTHS SALE\")\n",
    "print (sales3)"
   ]
  },
  {
   "cell_type": "code",
   "execution_count": 4,
   "metadata": {},
   "outputs": [
    {
     "name": "stdout",
     "output_type": "stream",
     "text": [
      "Mon      10\n",
      "Teus     12\n",
      "Wed      15\n",
      "Thurs     9\n",
      "Fri       2\n",
      "Sat      40\n",
      "Sund      7\n",
      "Name: Sandwiches sales, dtype: int64\n"
     ]
    }
   ],
   "source": [
    "# Tasks (canteen k 7 days k data store kru k ktne sandwiches sales huey)\n",
    "canteen = pd.Series ([10,12,15,9,2,40,7], index = ['Mon', 'Teus', 'Wed', 'Thurs', 'Fri', 'Sat', 'Sund'], name = 'Sandwiches sales')\n",
    "print (canteen)"
   ]
  },
  {
   "cell_type": "code",
   "execution_count": 34,
   "metadata": {},
   "outputs": [
    {
     "name": "stdout",
     "output_type": "stream",
     "text": [
      "through index location no. =  7 \n",
      "\n",
      "\n",
      "through index name that we have given =  40\n"
     ]
    }
   ],
   "source": [
    "# how to access elements stored in series\n",
    "# index 0 sey start hta hai\n",
    "#learn types of error in deep, khudse\n",
    "# sirf uski value show kr rha hai without index name\n",
    "print (\"through index location no. = \", canteen[6] , '\\n\\n')\n",
    "\n",
    "#how to access data with index name\n",
    "print (\"through index name that we have given = \", canteen['Sat'])"
   ]
  },
  {
   "cell_type": "code",
   "execution_count": 35,
   "metadata": {},
   "outputs": [
    {
     "name": "stdout",
     "output_type": "stream",
     "text": [
      "by using location number:  Thurs     9\n",
      "Sat      40\n",
      "Name: Sandwiches sales, dtype: int64 \n",
      "\n",
      "\n",
      "by using index name:  Thurs     9\n",
      "Sat      40\n",
      "Name: Sandwiches sales, dtype: int64\n"
     ]
    }
   ],
   "source": [
    "# how to access multiple values\n",
    "# kiun k pandas aik single value print krwaskta hai tu hmn as a list leni hngi values (isko array notation bolte hain)\n",
    "# like [3,5] aik list hai, to as a single value jarhi hai tu as a single value consider hrhi hai\n",
    "# value + index name show kr rha hai\n",
    "print ('by using location number: ', canteen[   [3,5]   ], '\\n\\n')\n",
    "\n",
    "#OR\n",
    "\n",
    "print ('by using index name: ',canteen [   ['Thurs', 'Sat']   ])"
   ]
  },
  {
   "cell_type": "code",
   "execution_count": 6,
   "metadata": {},
   "outputs": [
    {
     "name": "stdout",
     "output_type": "stream",
     "text": [
      "GREATER:  Teus    12\n",
      "Wed     15\n",
      "Sat     40\n",
      "Name: Sandwiches sales, dtype: int64 \n",
      "\n",
      "LESS:  Thurs    9\n",
      "Fri      2\n",
      "Sund     7\n",
      "Name: Sandwiches sales, dtype: int64 \n",
      "\n",
      "EQUAL:  Teus    12\n",
      "Name: Sandwiches sales, dtype: int64 \n",
      "\n"
     ]
    }
   ],
   "source": [
    "# conditional selection\n",
    "# means k greater then, less then bhi lgaskty hain\n",
    "\n",
    "print (\"GREATER: \", canteen[  canteen > 10   ], '\\n')\n",
    "print (\"LESS: \", canteen[  canteen < 10   ], '\\n')\n",
    "print (\"EQUAL: \", canteen[  canteen == 12   ], '\\n')\n"
   ]
  },
  {
   "cell_type": "code",
   "execution_count": 49,
   "metadata": {},
   "outputs": [
    {
     "name": "stdout",
     "output_type": "stream",
     "text": [
      "koi change nhn aya: \n",
      " Mon      10\n",
      "Teus     12\n",
      "Wed      15\n",
      "Thurs     9\n",
      "Fri       2\n",
      "Sat      40\n",
      "Sund      7\n",
      "Name: Sandwiches sales, dtype: int64 \n",
      "\n",
      "\n",
      "change agya: \n",
      " Mon      20\n",
      "Teus     24\n",
      "Wed      30\n",
      "Thurs    18\n",
      "Fri       4\n",
      "Sat      80\n",
      "Sund     14\n",
      "Name: Sandwiches sales, dtype: int64\n"
     ]
    }
   ],
   "source": [
    "# canteen mn change nhn aaega, sirf is command mn change aaya hai\n",
    "canteen * 2\n",
    "print('koi change nhn aya: \\n', canteen, '\\n\\n')\n",
    "\n",
    "# canteen mn change lane k liey we have to store it in canteen variable again\n",
    "\n",
    "canteen = canteen * 2\n",
    "print ('change agya: \\n', canteen)"
   ]
  },
  {
   "cell_type": "code",
   "execution_count": 50,
   "metadata": {},
   "outputs": [
    {
     "name": "stdout",
     "output_type": "stream",
     "text": [
      "Mon      10.0\n",
      "Teus     12.0\n",
      "Wed      15.0\n",
      "Thurs     9.0\n",
      "Fri       2.0\n",
      "Sat      40.0\n",
      "Sund      7.0\n",
      "Name: Sandwiches sales, dtype: float64\n"
     ]
    }
   ],
   "source": [
    "# divide\n",
    "#check one thing k datatype hmara float mn change hgya\n",
    "canteen = canteen / 2\n",
    "print (canteen)"
   ]
  },
  {
   "cell_type": "code",
   "execution_count": 53,
   "metadata": {},
   "outputs": [
    {
     "name": "stdout",
     "output_type": "stream",
     "text": [
      "True\n"
     ]
    }
   ],
   "source": [
    "# how to check if an index exist in series or not\n",
    "print ('Mon' in canteen)"
   ]
  },
  {
   "cell_type": "code",
   "execution_count": 82,
   "metadata": {},
   "outputs": [
    {
     "name": "stdout",
     "output_type": "stream",
     "text": [
      "Numpy k array :  [10 20 30 40] ['a' 'b' 'c' 'd']\n",
      "\n",
      "\n",
      "Series mn converted:  \n",
      " a    10\n",
      "b    20\n",
      "c    30\n",
      "d    40\n",
      "dtype: int32\n"
     ]
    }
   ],
   "source": [
    "# numpy array k data ko pandas mn kese use krte hain\n",
    "\n",
    "import numpy as np\n",
    "\n",
    "val = np.array (  [10,20,30,40]  )\n",
    "ind = np.array (  ['a', 'b', 'c', 'd'])\n",
    "print ('Numpy k array : ', val , ind)\n",
    "\n",
    "#converting it into pandas series\n",
    "\n",
    "ab = pd.Series (val, index=ind  )\n",
    "print ('\\n\\nSeries mn converted:  \\n', ab)"
   ]
  },
  {
   "cell_type": "code",
   "execution_count": 74,
   "metadata": {},
   "outputs": [
    {
     "name": "stdout",
     "output_type": "stream",
     "text": [
      "Talha    20000\n",
      "Rafay    30000\n",
      "dtype: int64\n",
      "\n",
      "\n",
      " Index ko agey peche krdea: \n",
      " Rafay    30000\n",
      "Talha    20000\n",
      "dtype: int64\n"
     ]
    }
   ],
   "source": [
    "# dictionary sey bhi data utha kr laskty hain\n",
    "#NOTE: dict ki values and index automatically pandas ki index values mn change hjaengi\n",
    "tax = {'Talha': 20000, 'Rafay': 30000}\n",
    "\n",
    "#saving it in pandas\n",
    "tax2 = pd.Series (tax)\n",
    "print (tax2)\n",
    "\n",
    "# index ko agr agey peche bhi krdn pandas mn tu values same hi rhti hain\n",
    "tax3 = pd.Series (tax, index = ['Rafay', 'Talha'])\n",
    "print('\\n\\n Index ko agey peche krdea: \\n', tax3)"
   ]
  },
  {
   "cell_type": "markdown",
   "metadata": {},
   "source": [
    "# Pandas ki Series mn LIST, DICT, Numpy Array mn sey input askta hai"
   ]
  },
  {
   "cell_type": "code",
   "execution_count": 93,
   "metadata": {},
   "outputs": [
    {
     "name": "stdout",
     "output_type": "stream",
     "text": [
      "Talha    20000.0\n",
      "Rafay    30000.0\n",
      "Ahsan        NaN\n",
      "dtype: float64 \n",
      "\n",
      "\n",
      "Talha    False\n",
      "Rafay    False\n",
      "Ahsan     True\n",
      "dtype: bool\n",
      "\n",
      "\n",
      "Talha    False\n",
      "Rafay    False\n",
      "Ahsan     True\n",
      "dtype: bool\n"
     ]
    }
   ],
   "source": [
    "# how to check if the value column has null values\n",
    "# can only happen if the index and value are inputted from dictionary\n",
    "#there is a difference between empty string and NaN, empty string (uske ander koi value hai buss 0 hai), NaN (value exist hi nhn krti)\n",
    "salary = {'Talha': 20000, 'Rafay': 30000}\n",
    "\n",
    "monthly_salary = pd.Series (salary, index = ['Talha', 'Rafay', 'Ahsan'])\n",
    "print(monthly_salary, '\\n\\n')\n",
    "\n",
    "#checking\n",
    "# NEW FUNCTION isnull() to check the null values, it returns boolean\n",
    "# 2 ways to perform it\n",
    "\n",
    "#1st way\n",
    "print (pd.isnull(monthly_salary)) #this is a funtion\n",
    "\n",
    "print('\\n')\n",
    "\n",
    "#2nd way\n",
    "print(monthly_salary.isnull()) #this is a method"
   ]
  },
  {
   "cell_type": "code",
   "execution_count": 9,
   "metadata": {},
   "outputs": [
    {
     "name": "stdout",
     "output_type": "stream",
     "text": [
      "0    10\n",
      "1    20\n",
      "2    30\n",
      "3    40\n",
      "Name: values column, dtype: int64\n",
      "/n\n",
      "index\n",
      "0    10\n",
      "1    20\n",
      "2    30\n",
      "3    40\n",
      "Name: values column, dtype: int64\n"
     ]
    }
   ],
   "source": [
    "# how to name the value and index column\n",
    "\n",
    "a = pd.Series([10,20,30,40])\n",
    "a.name = \"values column\"\n",
    "print (a)\n",
    "\n",
    "print('/n')\n",
    "\n",
    "a.index.name = \"index\"\n",
    "print (a)"
   ]
  },
  {
   "cell_type": "code",
   "execution_count": 99,
   "metadata": {},
   "outputs": [
    {
     "name": "stdout",
     "output_type": "stream",
     "text": [
      "aa    10\n",
      "bb    20\n",
      "cc    30\n",
      "dd    40\n",
      "dtype: int64 \n",
      "\n",
      "\n",
      "zz    10\n",
      "yy    20\n",
      "xx    30\n",
      "vv    40\n",
      "dtype: int64 \n",
      "\n",
      "\n"
     ]
    }
   ],
   "source": [
    "# index assign krne k 2nd method\n",
    "b = pd.Series([10,20,30,40], index= ['aa', 'bb', 'cc', 'dd'])\n",
    "print (b, '\\n\\n')\n",
    "\n",
    "b.index = ['zz', 'yy', 'xx', 'vv']\n",
    "\n",
    "print (b, '\\n\\n')"
   ]
  },
  {
   "cell_type": "code",
   "execution_count": null,
   "metadata": {},
   "outputs": [],
   "source": []
  }
 ],
 "metadata": {
  "kernelspec": {
   "display_name": "Python 3",
   "language": "python",
   "name": "python3"
  },
  "language_info": {
   "codemirror_mode": {
    "name": "ipython",
    "version": 3
   },
   "file_extension": ".py",
   "mimetype": "text/x-python",
   "name": "python",
   "nbconvert_exporter": "python",
   "pygments_lexer": "ipython3",
   "version": "3.7.1"
  }
 },
 "nbformat": 4,
 "nbformat_minor": 2
}

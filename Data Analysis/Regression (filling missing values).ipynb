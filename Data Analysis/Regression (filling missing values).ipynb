{
 "cells": [
  {
   "cell_type": "code",
   "execution_count": 16,
   "metadata": {},
   "outputs": [],
   "source": [
    "import pandas as pd\n",
    "import numpy as np"
   ]
  },
  {
   "cell_type": "code",
   "execution_count": 21,
   "metadata": {},
   "outputs": [],
   "source": [
    "df = pd.read_csv(\"Airfoil Self-Noise Train old.csv\")"
   ]
  },
  {
   "cell_type": "code",
   "execution_count": 20,
   "metadata": {},
   "outputs": [
    {
     "name": "stdout",
     "output_type": "stream",
     "text": [
      "   Frequency  Angle of attack  Chord length  Velocity  Thickness  \\\n",
      "0      800.0              0.0        0.3048      71.3   0.002663   \n",
      "1     1000.0              0.0           NaN      71.3   0.002663   \n",
      "2     1250.0              0.0        0.3048      71.3   0.002663   \n",
      "3        NaN              0.0        0.3048      71.3   0.002663   \n",
      "4     2000.0              0.0        0.3048      71.3   0.002663   \n",
      "\n",
      "   Sound Pressure  \n",
      "0         126.201  \n",
      "1         125.201  \n",
      "2         125.951  \n",
      "3         127.591  \n",
      "4         127.461  \n"
     ]
    }
   ],
   "source": [
    "print (df.head())"
   ]
  },
  {
   "cell_type": "code",
   "execution_count": 31,
   "metadata": {},
   "outputs": [
    {
     "name": "stdout",
     "output_type": "stream",
     "text": [
      "Frequency          10\n",
      "Angle of attack     0\n",
      "Chord length        4\n",
      "Velocity            0\n",
      "Thickness           0\n",
      "Sound Pressure      0\n",
      "dtype: int64\n"
     ]
    }
   ],
   "source": [
    "print (df.isnull().sum())"
   ]
  },
  {
   "cell_type": "code",
   "execution_count": 27,
   "metadata": {},
   "outputs": [
    {
     "name": "stdout",
     "output_type": "stream",
     "text": [
      "      Frequency  Chord length\n",
      "0         800.0        0.3048\n",
      "1        1000.0           NaN\n",
      "2        1250.0        0.3048\n",
      "3           NaN        0.3048\n",
      "4        2000.0        0.3048\n",
      "5        2500.0        0.3048\n",
      "6        3150.0        0.3048\n",
      "7        4000.0        0.3048\n",
      "8        3500.0        0.3048\n",
      "9        6300.0        0.3048\n",
      "10       8000.0        0.3048\n",
      "11      10000.0        0.3048\n",
      "12      12500.0        0.3048\n",
      "13      16000.0        0.3048\n",
      "14        500.0        0.3048\n",
      "15        630.0        0.3048\n",
      "16        800.0        0.3048\n",
      "17       1000.0        0.3048\n",
      "18       1250.0        0.3048\n",
      "19       1600.0        0.3048\n",
      "20       2000.0        0.3048\n",
      "21       2500.0        0.3048\n",
      "22       3150.0        0.3048\n",
      "23       4000.0        0.3048\n",
      "24       5000.0        0.3048\n",
      "25       6300.0        0.3048\n",
      "26       8000.0        0.3048\n",
      "27      10000.0        0.3048\n",
      "28      12500.0        0.3048\n",
      "29        200.0        0.3048\n",
      "...         ...           ...\n",
      "1022     4000.0        0.0254\n",
      "1023     5000.0        0.0254\n",
      "1024     6300.0        0.0254\n",
      "1025     8000.0        0.0254\n",
      "1026    10000.0        0.0254\n",
      "1027    12500.0        0.0254\n",
      "1028    16000.0        0.0254\n",
      "1029    20000.0        0.0254\n",
      "1030      500.0        0.0254\n",
      "1031      630.0        0.0254\n",
      "1032      800.0        0.0254\n",
      "1033     1000.0        0.0254\n",
      "1034     1250.0        0.0254\n",
      "1035     1600.0        0.0254\n",
      "1036     2000.0        0.0254\n",
      "1037     2500.0        0.0254\n",
      "1038     3150.0        0.0254\n",
      "1039     4000.0        0.0254\n",
      "1040     5000.0        0.0254\n",
      "1041     6300.0        0.0254\n",
      "1042     8000.0        0.0254\n",
      "1043    10000.0        0.0254\n",
      "1044      500.0        0.0254\n",
      "1045      630.0        0.0254\n",
      "1046      800.0        0.0254\n",
      "1047     1000.0        0.0254\n",
      "1048     1250.0        0.0254\n",
      "1049     1600.0        0.0254\n",
      "1050     2000.0        0.0254\n",
      "1051     2500.0        0.0254\n",
      "\n",
      "[1052 rows x 2 columns]\n"
     ]
    }
   ],
   "source": [
    "print (df[['Frequency','Chord length']])"
   ]
  },
  {
   "cell_type": "code",
   "execution_count": 29,
   "metadata": {},
   "outputs": [
    {
     "name": "stdout",
     "output_type": "stream",
     "text": [
      "      Frequency  Chord length\n",
      "0         False         False\n",
      "1         False          True\n",
      "2         False         False\n",
      "3          True         False\n",
      "4         False         False\n",
      "5         False         False\n",
      "6         False         False\n",
      "7         False         False\n",
      "8         False         False\n",
      "9         False         False\n",
      "10        False         False\n",
      "11        False         False\n",
      "12        False         False\n",
      "13        False         False\n",
      "14        False         False\n",
      "15        False         False\n",
      "16        False         False\n",
      "17        False         False\n",
      "18        False         False\n",
      "19        False         False\n",
      "20        False         False\n",
      "21        False         False\n",
      "22        False         False\n",
      "23        False         False\n",
      "24        False         False\n",
      "25        False         False\n",
      "26        False         False\n",
      "27        False         False\n",
      "28        False         False\n",
      "29        False         False\n",
      "...         ...           ...\n",
      "1022      False         False\n",
      "1023      False         False\n",
      "1024      False         False\n",
      "1025      False         False\n",
      "1026      False         False\n",
      "1027      False         False\n",
      "1028      False         False\n",
      "1029      False         False\n",
      "1030      False         False\n",
      "1031      False         False\n",
      "1032      False         False\n",
      "1033      False         False\n",
      "1034      False         False\n",
      "1035      False         False\n",
      "1036      False         False\n",
      "1037      False         False\n",
      "1038      False         False\n",
      "1039      False         False\n",
      "1040      False         False\n",
      "1041      False         False\n",
      "1042      False         False\n",
      "1043      False         False\n",
      "1044      False         False\n",
      "1045      False         False\n",
      "1046      False         False\n",
      "1047      False         False\n",
      "1048      False         False\n",
      "1049      False         False\n",
      "1050      False         False\n",
      "1051      False         False\n",
      "\n",
      "[1052 rows x 2 columns]\n"
     ]
    }
   ],
   "source": [
    "print (df[['Frequency','Chord length']].isnull())"
   ]
  },
  {
   "cell_type": "code",
   "execution_count": 39,
   "metadata": {},
   "outputs": [
    {
     "name": "stdout",
     "output_type": "stream",
     "text": [
      "3111.482725527831\n"
     ]
    }
   ],
   "source": [
    "freq_mean = df['Frequency'].mean()\n",
    "print (freq_mean)\n",
    "df['Frequency'].fillna(freq_mean, inplace=True)"
   ]
  },
  {
   "cell_type": "code",
   "execution_count": 40,
   "metadata": {},
   "outputs": [
    {
     "name": "stdout",
     "output_type": "stream",
     "text": [
      "0.16512423664122278\n"
     ]
    }
   ],
   "source": [
    "chord_mean = df['Chord length'].mean()\n",
    "print (chord_mean)\n",
    "df['Chord length'].fillna(chord_mean, inplace=True)"
   ]
  },
  {
   "cell_type": "code",
   "execution_count": 42,
   "metadata": {},
   "outputs": [
    {
     "name": "stdout",
     "output_type": "stream",
     "text": [
      "         Frequency  Chord length\n",
      "0       800.000000      0.304800\n",
      "1      1000.000000      0.165124\n",
      "2      1250.000000      0.304800\n",
      "3      3111.482726      0.304800\n",
      "4      2000.000000      0.304800\n",
      "5      2500.000000      0.304800\n",
      "6      3150.000000      0.304800\n",
      "7      4000.000000      0.304800\n",
      "8      3500.000000      0.304800\n",
      "9      6300.000000      0.304800\n",
      "10     8000.000000      0.304800\n",
      "11    10000.000000      0.304800\n",
      "12    12500.000000      0.304800\n",
      "13    16000.000000      0.304800\n",
      "14      500.000000      0.304800\n",
      "15      630.000000      0.304800\n",
      "16      800.000000      0.304800\n",
      "17     1000.000000      0.304800\n",
      "18     1250.000000      0.304800\n",
      "19     1600.000000      0.304800\n",
      "20     2000.000000      0.304800\n",
      "21     2500.000000      0.304800\n",
      "22     3150.000000      0.304800\n",
      "23     4000.000000      0.304800\n",
      "24     5000.000000      0.304800\n",
      "25     6300.000000      0.304800\n",
      "26     8000.000000      0.304800\n",
      "27    10000.000000      0.304800\n",
      "28    12500.000000      0.304800\n",
      "29      200.000000      0.304800\n",
      "...            ...           ...\n",
      "1022   4000.000000      0.025400\n",
      "1023   5000.000000      0.025400\n",
      "1024   6300.000000      0.025400\n",
      "1025   8000.000000      0.025400\n",
      "1026  10000.000000      0.025400\n",
      "1027  12500.000000      0.025400\n",
      "1028  16000.000000      0.025400\n",
      "1029  20000.000000      0.025400\n",
      "1030    500.000000      0.025400\n",
      "1031    630.000000      0.025400\n",
      "1032    800.000000      0.025400\n",
      "1033   1000.000000      0.025400\n",
      "1034   1250.000000      0.025400\n",
      "1035   1600.000000      0.025400\n",
      "1036   2000.000000      0.025400\n",
      "1037   2500.000000      0.025400\n",
      "1038   3150.000000      0.025400\n",
      "1039   4000.000000      0.025400\n",
      "1040   5000.000000      0.025400\n",
      "1041   6300.000000      0.025400\n",
      "1042   8000.000000      0.025400\n",
      "1043  10000.000000      0.025400\n",
      "1044    500.000000      0.025400\n",
      "1045    630.000000      0.025400\n",
      "1046    800.000000      0.025400\n",
      "1047   1000.000000      0.025400\n",
      "1048   1250.000000      0.025400\n",
      "1049   1600.000000      0.025400\n",
      "1050   2000.000000      0.025400\n",
      "1051   2500.000000      0.025400\n",
      "\n",
      "[1052 rows x 2 columns]\n"
     ]
    }
   ],
   "source": [
    "print (df[['Frequency','Chord length']])"
   ]
  },
  {
   "cell_type": "code",
   "execution_count": 46,
   "metadata": {},
   "outputs": [
    {
     "name": "stdout",
     "output_type": "stream",
     "text": [
      "Frequency          0\n",
      "Angle of attack    0\n",
      "Chord length       0\n",
      "Velocity           0\n",
      "Thickness          0\n",
      "Sound Pressure     0\n",
      "dtype: int64\n"
     ]
    }
   ],
   "source": [
    "print (df.isnull().sum())"
   ]
  },
  {
   "cell_type": "code",
   "execution_count": 45,
   "metadata": {},
   "outputs": [],
   "source": [
    "df.to_csv('Airfoil Self-Noise Train updated.csv', sep=',')"
   ]
  },
  {
   "cell_type": "code",
   "execution_count": null,
   "metadata": {},
   "outputs": [],
   "source": []
  }
 ],
 "metadata": {
  "kernelspec": {
   "display_name": "Python 3",
   "language": "python",
   "name": "python3"
  },
  "language_info": {
   "codemirror_mode": {
    "name": "ipython",
    "version": 3
   },
   "file_extension": ".py",
   "mimetype": "text/x-python",
   "name": "python",
   "nbconvert_exporter": "python",
   "pygments_lexer": "ipython3",
   "version": "3.7.1"
  }
 },
 "nbformat": 4,
 "nbformat_minor": 2
}

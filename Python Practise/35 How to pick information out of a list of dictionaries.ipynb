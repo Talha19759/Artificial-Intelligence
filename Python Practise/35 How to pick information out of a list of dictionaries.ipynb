{
 "cells": [
  {
   "cell_type": "code",
   "execution_count": 2,
   "metadata": {},
   "outputs": [
    {
     "name": "stdout",
     "output_type": "stream",
     "text": [
      "{'name': 'saad', 'id': 15486}\n",
      "saad\n"
     ]
    }
   ],
   "source": [
    "#list of dict k ander sey info pick krna, list name > list index > dict > then dict k ander ki value\n",
    "x = [\n",
    "    {'name': 'talha', 'id': 19759},\n",
    "    {'name': 'ali', 'id': 19845},\n",
    "    {'name': 'saad', 'id': 15486},\n",
    "]\n",
    "print(x[2])\n",
    "\n",
    "a = x[2]\n",
    "b = a['name']\n",
    "print (b)"
   ]
  },
  {
   "cell_type": "code",
   "execution_count": null,
   "metadata": {},
   "outputs": [],
   "source": []
  }
 ],
 "metadata": {
  "kernelspec": {
   "display_name": "Python 3",
   "language": "python",
   "name": "python3"
  },
  "language_info": {
   "codemirror_mode": {
    "name": "ipython",
    "version": 3
   },
   "file_extension": ".py",
   "mimetype": "text/x-python",
   "name": "python",
   "nbconvert_exporter": "python",
   "pygments_lexer": "ipython3",
   "version": "3.7.1"
  }
 },
 "nbformat": 4,
 "nbformat_minor": 2
}

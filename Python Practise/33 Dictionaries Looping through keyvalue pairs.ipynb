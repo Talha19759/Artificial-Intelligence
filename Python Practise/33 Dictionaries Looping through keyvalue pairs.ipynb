{
 "cells": [
  {
   "cell_type": "code",
   "execution_count": 7,
   "metadata": {},
   "outputs": [
    {
     "name": "stdout",
     "output_type": "stream",
     "text": [
      "pak 0\n",
      "ind 1\n",
      "usa 2\n"
     ]
    }
   ],
   "source": [
    "#looping in key-value both, use items(), key saved in a and value saved in b\n",
    "x = {'pak': 0,\n",
    "     'ind': 1,\n",
    "     'usa': 2}\n",
    "for a,b in x.items():\n",
    "    print (a,b)"
   ]
  },
  {
   "cell_type": "code",
   "execution_count": 5,
   "metadata": {},
   "outputs": [
    {
     "name": "stdout",
     "output_type": "stream",
     "text": [
      "('pak', 0)\n",
      "('ind', 1)\n",
      "('usa', 2)\n"
     ]
    }
   ],
   "source": [
    "#looping in key-value both, use items(), key value both saved in a\n",
    "x = {'pak': 0,\n",
    "     'ind': 1,\n",
    "     'usa': 2}\n",
    "for a in x.items():\n",
    "    print (a)"
   ]
  },
  {
   "cell_type": "code",
   "execution_count": null,
   "metadata": {},
   "outputs": [],
   "source": []
  }
 ],
 "metadata": {
  "kernelspec": {
   "display_name": "Python 3",
   "language": "python",
   "name": "python3"
  },
  "language_info": {
   "codemirror_mode": {
    "name": "ipython",
    "version": 3
   },
   "file_extension": ".py",
   "mimetype": "text/x-python",
   "name": "python",
   "nbconvert_exporter": "python",
   "pygments_lexer": "ipython3",
   "version": "3.7.1"
  }
 },
 "nbformat": 4,
 "nbformat_minor": 2
}

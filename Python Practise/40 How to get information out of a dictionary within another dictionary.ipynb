{
 "cells": [
  {
   "cell_type": "code",
   "execution_count": 9,
   "metadata": {},
   "outputs": [
    {
     "name": "stdout",
     "output_type": "stream",
     "text": [
      "{'name': 'saad', 'id': 15486}\n",
      "15486\n"
     ]
    }
   ],
   "source": [
    "#how to get info out of dict of dict\n",
    "x = {\n",
    "    0:{'name': 'talha', 'id': 19759},\n",
    "    1:{'name': 'ali', 'id': 19845},\n",
    "    2:{'name': 'saad', 'id': 15486},\n",
    "}\n",
    "print(x[2]) #first way, key provide\n",
    "print (x[2]['id']) #2nd way, first dict key, nested dict key in coluns\n",
    "\n"
   ]
  },
  {
   "cell_type": "code",
   "execution_count": null,
   "metadata": {},
   "outputs": [],
   "source": []
  }
 ],
 "metadata": {
  "kernelspec": {
   "display_name": "Python 3",
   "language": "python",
   "name": "python3"
  },
  "language_info": {
   "codemirror_mode": {
    "name": "ipython",
    "version": 3
   },
   "file_extension": ".py",
   "mimetype": "text/x-python",
   "name": "python",
   "nbconvert_exporter": "python",
   "pygments_lexer": "ipython3",
   "version": "3.7.1"
  }
 },
 "nbformat": 4,
 "nbformat_minor": 2
}

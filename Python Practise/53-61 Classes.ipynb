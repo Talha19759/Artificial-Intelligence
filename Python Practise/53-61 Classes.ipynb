{
 "cells": [
  {
   "cell_type": "code",
   "execution_count": 10,
   "metadata": {},
   "outputs": [
    {
     "name": "stdout",
     "output_type": "stream",
     "text": [
      "19759\n"
     ]
    }
   ],
   "source": [
    "#simple class program\n",
    "class Student:\n",
    "    def __init__(self,name,id): #name and id are instance attribute\n",
    "        self.full_name = name   #each instance in constructor will be saved in a variable\n",
    "        self.id_no = id\n",
    "\n",
    "#creating object\n",
    "student_1 = Student('talha',19759)\n",
    "student_2 = Student('ali',19845)\n",
    "print (student_1.id_no)"
   ]
  },
  {
   "cell_type": "code",
   "execution_count": 3,
   "metadata": {},
   "outputs": [
    {
     "name": "stdout",
     "output_type": "stream",
     "text": [
      "19759\n",
      "ali\n"
     ]
    }
   ],
   "source": [
    "#creating class\n",
    "class Student:\n",
    "    def __init__(self,name,id):\n",
    "        self.full_name = name   \n",
    "        self.id_no = id\n",
    "\n",
    "#creating object with uniwue variable name\n",
    "student_1 = Student('talha',19759)\n",
    "student_2 = Student('ali',19845)\n",
    "\n",
    "#getting id out of instance/object\n",
    "id_of_student = student_1.id_no #id_of_student (new variable) student_1 (object name) id_no (variable in which we stored instance)\n",
    "print (id_of_student)\n",
    "\n",
    "#getting name out of instance/object\n",
    "name_of_student = student_2.full_name\n",
    "print (name_of_student)"
   ]
  },
  {
   "cell_type": "code",
   "execution_count": 11,
   "metadata": {},
   "outputs": [
    {
     "name": "stdout",
     "output_type": "stream",
     "text": [
      "This patient is a minor\n"
     ]
    }
   ],
   "source": [
    "#building functions(methods) inside classes\n",
    "class Patient():\n",
    "    def __init__(self, last_name, first_name, age):\n",
    "        self.last_name = last_name\n",
    "        self.first_name = first_name\n",
    "        self.age = age\n",
    "\n",
    "#this is method        \n",
    "    def say_if_minor(self): #self lkhngy tu class k sarey attributes ismn bhi ajaengy\n",
    "        if self.age < 21:\n",
    "            print(\"This patient is a minor\")\n",
    "            \n",
    "#defining Object \n",
    "pat_40 = Patient ('Talha', 'Sarwar', 20)\n",
    "\n",
    "#method call kr rhy hain, method mn sari object k instances chale gye hngy\n",
    "pat_40.say_if_minor()  #it is checking is age"
   ]
  },
  {
   "cell_type": "code",
   "execution_count": 21,
   "metadata": {},
   "outputs": [
    {
     "name": "stdout",
     "output_type": "stream",
     "text": [
      "Ali\n"
     ]
    }
   ],
   "source": [
    "#changing the first name of an already entered patient\n",
    "class Patient():\n",
    "    def __init__(self,first_name, last_name, age):\n",
    "        self.first_name = first_name\n",
    "        self.last_name = last_name\n",
    "        self.age = age\n",
    "   \n",
    "    def change_first_name(self, new_first_name): #method , same as function\n",
    "        self.first_name = new_first_name\n",
    "        \n",
    "pat_40 = Patient ('Talha', 'Sarwar', 20) #last name = Talha\n",
    "pat_40.change_first_name('Ali') #called the method, change the last name\n",
    "print (pat_40.first_name)\n"
   ]
  },
  {
   "cell_type": "code",
   "execution_count": null,
   "metadata": {},
   "outputs": [],
   "source": []
  }
 ],
 "metadata": {
  "kernelspec": {
   "display_name": "Python 3",
   "language": "python",
   "name": "python3"
  },
  "language_info": {
   "codemirror_mode": {
    "name": "ipython",
    "version": 3
   },
   "file_extension": ".py",
   "mimetype": "text/x-python",
   "name": "python",
   "nbconvert_exporter": "python",
   "pygments_lexer": "ipython3",
   "version": "3.7.1"
  }
 },
 "nbformat": 4,
 "nbformat_minor": 2
}

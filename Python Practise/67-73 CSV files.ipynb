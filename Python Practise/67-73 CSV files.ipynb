{
 "cells": [
  {
   "cell_type": "code",
   "execution_count": null,
   "metadata": {},
   "outputs": [],
   "source": [
    "# how to read the data from csv files\n",
    "import csv #zarori hai ye import krana\n",
    "with open(\"qq.csv\") as f:\n",
    "    contents_of_f = csv.reader(f)  #ratta maru is step ko\n",
    "    \n",
    "    \n",
    "    potter_competitions = []     #empty list created\n",
    "    for each_line in contents_of_f:    #looping through the data of csv file\n",
    "        potter_competitions += each_line  #line by line read hta jaega and save hta jaega list mn\n",
    "        print (potter_competitions)"
   ]
  },
  {
   "cell_type": "code",
   "execution_count": null,
   "metadata": {},
   "outputs": [],
   "source": [
    "#csv file info, basically 3*3 matrix hai, line by line read hta hai\n",
    "Year,Event,Winner\n",
    "1995,Best-Kept Lawn,None\n",
    "1999,Gobstones,Welch Nationional\n",
    "2006,World Cup,Burkina Faso"
   ]
  },
  {
   "cell_type": "code",
   "execution_count": null,
   "metadata": {},
   "outputs": [],
   "source": [
    "#finding the index number of competition\n",
    "\n",
    "index_number_of_target =\n",
    "potter_competitions.index(\"Best-Kept Lawn\")"
   ]
  },
  {
   "cell_type": "code",
   "execution_count": null,
   "metadata": {},
   "outputs": [],
   "source": [
    "#getting info out of it\n",
    "\n",
    "target = input(\"Enter the name of a competition:\")\n",
    "index_number_of_target = potter_competitions.index(target)\n",
    "index_number_of_winner = index_number_of_target + 1\n",
    "the_winner = potter_competitions[index_number_of_winner]\n",
    "print(\"The winner was \" + the_winner)"
   ]
  },
  {
   "cell_type": "code",
   "execution_count": null,
   "metadata": {},
   "outputs": [],
   "source": [
    "#data dalrhy hain csv mn\n",
    "# file create krega ya open krdga of already available hai tu\n",
    "# if data mojood hai file mn already tu overwrite krdega\n",
    "import csv\n",
    "with open(\"whatever.csv\", \"w\", newline=\"\") as f: \n",
    "    \n",
    "    #csv library mn ready made funcion hai writer usko call kr rhy hain\n",
    "    # delimeter \\ | ^ kch bhi hskta hai tu isliye hm khud sey btarhy hain k comma use kru, \n",
    "    # basically excel file mn alag cells mn enter krne k liey data ko use krty hain\n",
    "    \n",
    "    data_handler = csv.writer(f, delimiter=\",\")\n",
    "    \n",
    "    #row wise write krega file mn data ko\n",
    "    #writerow is the keyword\n",
    "    \n",
    "    data_handler.writerow([\"Year\", \"Event\",\"Winner\"])\n",
    "    data_handler.writerow([\"1995\", \"Best-Kept Lawn\",\"None\"])"
   ]
  },
  {
   "cell_type": "code",
   "execution_count": null,
   "metadata": {},
   "outputs": [],
   "source": [
    "#appending rows, add kr rhy hain , overwrite nh kr rhy\n",
    "\n",
    "with open(\"whatever.csv\", \"a\", newline=\"\") as f:\n",
    "    data_handler = csv.writer(f, delimiter=\",\")\n",
    "    data_handler.writerow([\"2006\", \"World Cup\",\"Burkina Faso\"])\n",
    "    data_handler.writerow([\"2011\", \"Butter Cup\",\"France\"])"
   ]
  }
 ],
 "metadata": {
  "kernelspec": {
   "display_name": "Python 3",
   "language": "python",
   "name": "python3"
  },
  "language_info": {
   "codemirror_mode": {
    "name": "ipython",
    "version": 3
   },
   "file_extension": ".py",
   "mimetype": "text/x-python",
   "name": "python",
   "nbconvert_exporter": "python",
   "pygments_lexer": "ipython3",
   "version": "3.7.1"
  }
 },
 "nbformat": 4,
 "nbformat_minor": 2
}

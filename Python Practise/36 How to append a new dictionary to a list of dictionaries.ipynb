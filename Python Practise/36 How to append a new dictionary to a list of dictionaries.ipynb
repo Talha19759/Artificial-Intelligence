{
 "cells": [
  {
   "cell_type": "code",
   "execution_count": 1,
   "metadata": {},
   "outputs": [
    {
     "name": "stdout",
     "output_type": "stream",
     "text": [
      "3\n"
     ]
    }
   ],
   "source": [
    "# how many dict are there in the lists, len 1 sey start hti hai\n",
    "x = [\n",
    "    {'name': 'talha', 'id': 19759},\n",
    "    {'name': 'ali', 'id': 19845},\n",
    "    {'name': 'saad', 'id': 15486},\n",
    "]\n",
    "print(len(x))"
   ]
  },
  {
   "cell_type": "code",
   "execution_count": 10,
   "metadata": {},
   "outputs": [
    {
     "name": "stdout",
     "output_type": "stream",
     "text": [
      "[{'name': 'talha', 'id': 19759}, {'name': 'ali', 'id': 19845}, {'name': 'saad', 'id': 15486}, {'name': 'maaz', 'id': 15546}]\n"
     ]
    }
   ],
   "source": [
    "#how to append new dict in list of dict\n",
    "x = [\n",
    "    {'name': 'talha', 'id': 19759},\n",
    "    {'name': 'ali', 'id': 19845},\n",
    "    {'name': 'saad', 'id': 15486},\n",
    "]\n",
    "\n",
    "new_dict = {'name': 'maaz', 'id': 15546}\n",
    "x.append(new_dict)\n",
    "\n",
    "print(x[:])\n"
   ]
  },
  {
   "cell_type": "code",
   "execution_count": null,
   "metadata": {},
   "outputs": [],
   "source": []
  }
 ],
 "metadata": {
  "kernelspec": {
   "display_name": "Python 3",
   "language": "python",
   "name": "python3"
  },
  "language_info": {
   "codemirror_mode": {
    "name": "ipython",
    "version": 3
   },
   "file_extension": ".py",
   "mimetype": "text/x-python",
   "name": "python",
   "nbconvert_exporter": "python",
   "pygments_lexer": "ipython3",
   "version": "3.7.1"
  }
 },
 "nbformat": 4,
 "nbformat_minor": 2
}

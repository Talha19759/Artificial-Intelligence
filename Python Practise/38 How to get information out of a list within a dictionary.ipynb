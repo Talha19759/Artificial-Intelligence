{
 "cells": [
  {
   "cell_type": "code",
   "execution_count": 10,
   "metadata": {},
   "outputs": [
    {
     "name": "stdout",
     "output_type": "stream",
     "text": [
      "['AI', 'CCN']\n",
      "not found\n"
     ]
    }
   ],
   "source": [
    "#phele dict k ander ki list print krwali then , list k ander ki value ko mention kra if else mn to check k available hai ya nhn\n",
    "x = {'name': 'talha', \n",
    "     'id' : 19759, \n",
    "     'courses':['AI', 'CCN'],}\n",
    "print (x[\"courses\"])\n",
    "\n",
    "if 'AI' in x['courses']:\n",
    "    print ('found')\n",
    "else:\n",
    "    print ('not found')"
   ]
  },
  {
   "cell_type": "code",
   "execution_count": null,
   "metadata": {},
   "outputs": [],
   "source": []
  }
 ],
 "metadata": {
  "kernelspec": {
   "display_name": "Python 3",
   "language": "python",
   "name": "python3"
  },
  "language_info": {
   "codemirror_mode": {
    "name": "ipython",
    "version": 3
   },
   "file_extension": ".py",
   "mimetype": "text/x-python",
   "name": "python",
   "nbconvert_exporter": "python",
   "pygments_lexer": "ipython3",
   "version": "3.7.1"
  }
 },
 "nbformat": 4,
 "nbformat_minor": 2
}

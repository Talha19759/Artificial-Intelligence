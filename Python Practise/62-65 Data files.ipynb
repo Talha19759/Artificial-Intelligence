{
 "cells": [
  {
   "cell_type": "code",
   "execution_count": null,
   "metadata": {},
   "outputs": [],
   "source": [
    "#how to open a txt file \n",
    "#with k mtlb hai k file open hgi then jb next code pr jaengy tu automatic close hjaegi\n",
    "# w means write\n",
    "#file_to is the file handle\n",
    "#agr ye file location pr hgi tu open krdga wrna create krdga\n",
    "\n",
    "with open(\"whatever.txt\", \"w\") as file_to_work_with: "
   ]
  },
  {
   "cell_type": "code",
   "execution_count": 5,
   "metadata": {},
   "outputs": [],
   "source": [
    "#how to write in those files\n",
    "#if green.txt existed already tu usmn jo bhi text pehle sey hga sbh overwrite hjaega\n",
    "# w k mtlb hai k agr koi data hai pehle sey tu replace krdu\n",
    "# write is the keyword\n",
    "\n",
    "with open(\"greet.txt\", \"w\") as f:\n",
    "    f.write(\"Hello, world!\")\n",
    "    \n",
    "#aese bhi krskty hain\n",
    "greeting = \"Hello, world!\"\n",
    "with open(\"greet.txt\", \"w\") as f:\n",
    "    f.write(greeting)"
   ]
  },
  {
   "cell_type": "code",
   "execution_count": 9,
   "metadata": {},
   "outputs": [
    {
     "name": "stdout",
     "output_type": "stream",
     "text": [
      "Hello, world!\n"
     ]
    }
   ],
   "source": [
    "#how to retrieve / read data out of a file\n",
    "#r = read is used to retrieve data\n",
    "# read() keyword is used to read the data\n",
    "#greet.txt mn jo bhi data the woh variable mn save hgya\n",
    "\n",
    "with open(\"greet.txt\", \"r\") as f:\n",
    "    text_of_file = f.read()\n",
    "    print (text_of_file)"
   ]
  },
  {
   "cell_type": "code",
   "execution_count": null,
   "metadata": {},
   "outputs": [],
   "source": [
    "#agr sirf file mn read krna hai k hai kia tu \"r\" skip bhi krskty hain\n",
    "\n",
    "with open(\"greet.txt\", \"r\") as f:"
   ]
  },
  {
   "cell_type": "code",
   "execution_count": 14,
   "metadata": {},
   "outputs": [
    {
     "name": "stdout",
     "output_type": "stream",
     "text": [
      "Hello, world!\n",
      "Have a nice day!\n",
      "Have a nice day!\n",
      "Have a nice day!\n",
      "Have a nice day!\n",
      "Have a nice day!\n"
     ]
    }
   ],
   "source": [
    "# appending data, previous data jo file mn tha woh rhega buss more data will be added\n",
    "# for new line \\n\n",
    "with open(\"greet.txt\", \"a\") as f:\n",
    "    f.write(\"\\nHave a nice day!\")\n",
    "    \n",
    "#checking k file k ander data append hua ya nhn\n",
    "\n",
    "with open(\"greet.txt\") as f: # \"r\" optional hta hai\n",
    "    message = f.read()\n",
    "    print(message)"
   ]
  },
  {
   "cell_type": "code",
   "execution_count": null,
   "metadata": {},
   "outputs": [],
   "source": []
  }
 ],
 "metadata": {
  "kernelspec": {
   "display_name": "Python 3",
   "language": "python",
   "name": "python3"
  },
  "language_info": {
   "codemirror_mode": {
    "name": "ipython",
    "version": 3
   },
   "file_extension": ".py",
   "mimetype": "text/x-python",
   "name": "python",
   "nbconvert_exporter": "python",
   "pygments_lexer": "ipython3",
   "version": "3.7.1"
  }
 },
 "nbformat": 4,
 "nbformat_minor": 2
}

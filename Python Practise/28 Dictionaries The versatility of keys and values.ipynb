{
 "cells": [
  {
   "cell_type": "code",
   "execution_count": 4,
   "metadata": {},
   "outputs": [
    {
     "name": "stdout",
     "output_type": "stream",
     "text": [
      "{5: 'Finland', 2: 'Norway', 3: 'Sweden', 7: 'Iceland'}\n"
     ]
    }
   ],
   "source": [
    "#keys can be number too in dict, and vice versa\n",
    "rankings = {5: \"Finland\", 2: \"Norway\", 3: \"Sweden\",\n",
    "7: \"Iceland\"}\n",
    "print (rankings)"
   ]
  },
  {
   "cell_type": "code",
   "execution_count": 7,
   "metadata": {},
   "outputs": [
    {
     "name": "stdout",
     "output_type": "stream",
     "text": [
      "Finland\n"
     ]
    }
   ],
   "source": [
    "#specific key, comma added in the end\n",
    "rankings = {5: \"Finland\", 2: \"Norway\", 3: \"Sweden\",\n",
    "7: \"Iceland\",}\n",
    "print (rankings[5])"
   ]
  },
  {
   "cell_type": "code",
   "execution_count": null,
   "metadata": {},
   "outputs": [],
   "source": []
  }
 ],
 "metadata": {
  "kernelspec": {
   "display_name": "Python 3",
   "language": "python",
   "name": "python3"
  },
  "language_info": {
   "codemirror_mode": {
    "name": "ipython",
    "version": 3
   },
   "file_extension": ".py",
   "mimetype": "text/x-python",
   "name": "python",
   "nbconvert_exporter": "python",
   "pygments_lexer": "ipython3",
   "version": "3.7.1"
  }
 },
 "nbformat": 4,
 "nbformat_minor": 2
}

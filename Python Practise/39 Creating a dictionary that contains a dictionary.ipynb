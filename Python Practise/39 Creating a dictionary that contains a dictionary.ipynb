{
 "cells": [
  {
   "cell_type": "code",
   "execution_count": 10,
   "metadata": {},
   "outputs": [
    {
     "name": "stdout",
     "output_type": "stream",
     "text": [
      "{'name': 'saad', 'id': 15486}\n"
     ]
    }
   ],
   "source": [
    "# dict k and dict hai, hr dict ko aik key deni hgi, numbered key\n",
    "x = {\n",
    "    0:{'name': 'talha', 'id': 19759},\n",
    "    1:{'name': 'ali', 'id': 19845},\n",
    "    2:{'name': 'saad', 'id': 15486},\n",
    "}\n",
    "print(x[2])"
   ]
  },
  {
   "cell_type": "code",
   "execution_count": 13,
   "metadata": {},
   "outputs": [
    {
     "name": "stdout",
     "output_type": "stream",
     "text": [
      "{'name': 'ali', 'id': 19845}\n"
     ]
    }
   ],
   "source": [
    "#string key \n",
    "\n",
    "x = {\n",
    "    'a':{'name': 'talha', 'id': 19759},\n",
    "    'b':{'name': 'ali', 'id': 19845},\n",
    "    'c':{'name': 'saad', 'id': 15486},\n",
    "}\n",
    "print(x['b'])"
   ]
  },
  {
   "cell_type": "code",
   "execution_count": null,
   "metadata": {},
   "outputs": [],
   "source": []
  }
 ],
 "metadata": {
  "kernelspec": {
   "display_name": "Python 3",
   "language": "python",
   "name": "python3"
  },
  "language_info": {
   "codemirror_mode": {
    "name": "ipython",
    "version": 3
   },
   "file_extension": ".py",
   "mimetype": "text/x-python",
   "name": "python",
   "nbconvert_exporter": "python",
   "pygments_lexer": "ipython3",
   "version": "3.7.1"
  }
 },
 "nbformat": 4,
 "nbformat_minor": 2
}

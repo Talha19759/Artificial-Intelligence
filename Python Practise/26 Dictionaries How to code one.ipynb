{
 "cells": [
  {
   "cell_type": "code",
   "execution_count": 1,
   "metadata": {},
   "outputs": [
    {
     "name": "stdout",
     "output_type": "stream",
     "text": [
      "{'first name': 'Talha', 'last name': 'Sarwar', 'class': 'artificial intelligence'}\n"
     ]
    }
   ],
   "source": [
    "#simple dict hai, first name is key and david is value\n",
    "student_19759 = {\"first name\": \"Talha\", \"last name\": \"Sarwar\", \"class\": \"artificial intelligence\"}\n",
    "print(student_19759)"
   ]
  },
  {
   "cell_type": "code",
   "execution_count": 7,
   "metadata": {},
   "outputs": [
    {
     "name": "stdout",
     "output_type": "stream",
     "text": [
      "Talha\n"
     ]
    }
   ],
   "source": [
    "#to find info in dict, use key to find it\n",
    "student_19759 = {\"first name\": \"Talha\", \"last name\": \"Sarwar\", \"class\": \"artificial intelligence\"}\n",
    "print(student_19759['first name'])"
   ]
  },
  {
   "cell_type": "code",
   "execution_count": null,
   "metadata": {},
   "outputs": [],
   "source": []
  }
 ],
 "metadata": {
  "kernelspec": {
   "display_name": "Python 3",
   "language": "python",
   "name": "python3"
  },
  "language_info": {
   "codemirror_mode": {
    "name": "ipython",
    "version": 3
   },
   "file_extension": ".py",
   "mimetype": "text/x-python",
   "name": "python",
   "nbconvert_exporter": "python",
   "pygments_lexer": "ipython3",
   "version": "3.7.1"
  }
 },
 "nbformat": 4,
 "nbformat_minor": 2
}

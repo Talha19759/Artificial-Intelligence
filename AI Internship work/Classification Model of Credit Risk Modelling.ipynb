{
 "cells": [
  {
   "cell_type": "code",
   "execution_count": 1,
   "metadata": {},
   "outputs": [],
   "source": [
    "import pandas as pd\n",
    "import numpy as np \n",
    "import seaborn as sb\n",
    "import matplotlib.pyplot as plt\n",
    "from sklearn import preprocessing\n",
    "\n",
    "#import feature selection modules\n",
    "from sklearn.feature_selection import mutual_info_classif,RFE,RFECV\n",
    "\n",
    "#import classification modules\n",
    "from sklearn.linear_model import LogisticRegression\n",
    "from sklearn.ensemble import RandomForestClassifier\n",
    "from sklearn.neighbors import KNeighborsClassifier\n",
    "\n",
    "#import classification evaluation\n",
    "from sklearn.model_selection import train_test_split\n",
    "from sklearn.model_selection import KFold \n",
    "from sklearn.model_selection import RepeatedKFold\n",
    "from sklearn.metrics import accuracy_score\n",
    "from sklearn.metrics import confusion_matrix\n",
    "from sklearn.metrics import precision_score\n",
    "from sklearn.metrics import recall_score\n",
    "from sklearn.metrics import roc_auc_score\n",
    "from sklearn.metrics import roc_curve \n",
    "from sklearn.metrics import f1_score\n",
    "from sklearn.metrics import auc"
   ]
  },
  {
   "cell_type": "code",
   "execution_count": 3,
   "metadata": {},
   "outputs": [],
   "source": [
    "def load_data():\n",
    "    dmfraud = pd.read_csv('creditriskmodeling.csv')\n",
    "    return dmfraud\n",
    "dmfraud = load_data()"
   ]
  },
  {
   "cell_type": "code",
   "execution_count": 8,
   "metadata": {},
   "outputs": [],
   "source": [
    "def cleaningup(dmfraud):\n",
    "    \n",
    "    dmfraud.dropna(how='any', axis = 0, inplace = True)\n",
    "    print (dmfraud.shape)\n",
    "    \n",
    "    le = preprocessing.LabelEncoder()\n",
    "    le.fit(dmfraud['Default'])\n",
    "    list(le.classes_)\n",
    "    dmfraud['Default'] = le.transform(dmfraud['Default'])\n",
    "    \n",
    "    print(\"dmfraud is all cleaned up..\")\n",
    "    return dmfraud"
   ]
  },
  {
   "cell_type": "code",
   "execution_count": 9,
   "metadata": {},
   "outputs": [],
   "source": [
    "def basicanalysis(dmfraud):\n",
    "    print ('Shape is : \\n', dmfraud.shape)\n",
    "    print ('Data Type is : \\n', dmfraud.dtypes)\n",
    "    print ('Column names are : \\n', dmfraud.columns)\n",
    "    print ('Statistical Analysis : \\n', dmfraud.describe()) #ye function hai jbi () brackets lgey hain"
   ]
  },
  {
   "cell_type": "code",
   "execution_count": 11,
   "metadata": {},
   "outputs": [],
   "source": [
    "def stringcolanalysis(dmfraud):\n",
    "    stringcols = dmfraud.select_dtypes(exclude = np.number)\n",
    "    fig = plt.figure(figsize = (8,10))\n",
    "    for i,col in enumerate(stringcols): \n",
    "        fig.add_subplot(4,2,i+1) \n",
    "        fig.savefig('Categorical.png')\n",
    "        dmfraud[col].value_counts().plot(kind = 'barh', color='lightgreen' ,fontsize=10) \n",
    "        plt.tight_layout()\n",
    "        plt.title(col)"
   ]
  },
  {
   "cell_type": "code",
   "execution_count": 13,
   "metadata": {},
   "outputs": [],
   "source": [
    "def numcolanalysis(dmfraud):\n",
    "    numcols = dmfraud.select_dtypes(include=np.number)\n",
    "    for col in numcols:\n",
    "        fig = plt.figure(figsize = (5,5))\n",
    "        sb.boxplot(dmfraud[col], color='grey', linewidth=1)\n",
    "        plt.tight_layout()\n",
    "        plt.title(col)\n",
    "        plt.savefig(\"Numerical.png\")"
   ]
  },
  {
   "cell_type": "code",
   "execution_count": 14,
   "metadata": {},
   "outputs": [],
   "source": [
    "def traintestsplit(dmfraud,split,random):\n",
    "    #make a copy of the label column and store in y\n",
    "    y = dmfraud['Default'].copy()\n",
    "    \n",
    "    #now delete the original\n",
    "    X = dmfraud.drop('Default',axis=1)\n",
    "    \n",
    "    #manual split\n",
    "    trainX, testX, trainY, testY= train_test_split(X, y, test_size=split, random_state=random)\n",
    "    \n",
    "    return X, trainX, testX, trainY, testY "
   ]
  },
  {
   "cell_type": "code",
   "execution_count": 15,
   "metadata": {},
   "outputs": [],
   "source": [
    "def cross_valid(X,y,split,repeat,random):\n",
    "    kf = RepeatedKFold(n_splits=split, n_repeats=repeat, random_state=random) \n",
    "    for train_index, test_index in kf.split(X):\n",
    "        trainX, testX = X.iloc[train_index], X.iloc[test_index] \n",
    "        trainY, testY = y.iloc[train_index], y.iloc[test_index]\n",
    "    return trainX,trainY,testX,testY"
   ]
  },
  {
   "cell_type": "code",
   "execution_count": 16,
   "metadata": {},
   "outputs": [],
   "source": [
    "def validationmetrics(model,testX,testY):\n",
    "    predictions = model.predict(testX)\n",
    "    print(\"Prediction Vector: \\n\", predictions)\n",
    "    \n",
    "    #Accuracy\n",
    "    print(\"Accuracy: \\n\", accuracy_score(testY, predictions)*100)\n",
    "    \n",
    "    #Precision\n",
    "    print(\"Precision of Fraud Happening: \\n\", precision_score(testY, predictions,pos_label=1,labels=[0,1])*100)\n",
    "    \n",
    "    #Recall\n",
    "    print(\"Recall of Fraud Happening: \\n\", recall_score(testY, predictions,pos_label=1,labels=[0,1])*100)\n",
    "    \n",
    "    #get FPR (specificity) and TPR (sensitivity)\n",
    "    fpr , tpr, _ = roc_curve(testY, predictions)\n",
    "    \n",
    "    #AUC\n",
    "    print(\"AUC of Fraud Happening: \\n\",auc(fpr, tpr))\n",
    "    \n",
    "    #F-Score\n",
    "    print(\"F-Score OF Fraud Happening:\\n\", f1_score(testY, predictions))\n",
    "    \n",
    "    #confusion Matrix\n",
    "    \n",
    "    print(\"Confusion Matrix: \\n\", confusion_matrix(testY, predictions,labels=[0,1]))"
   ]
  },
  {
   "cell_type": "code",
   "execution_count": 19,
   "metadata": {},
   "outputs": [],
   "source": [
    "def RFfeatureimportance(dmfraud, trainX, testX, trainY, testY, trees, random):\n",
    "    clf = RandomForestClassifier(n_estimators=trees, random_state=random)\n",
    "    clf.fit(trainX,trainY)\n",
    "    validationmetrics(clf,testX,testY)\n",
    "    print(pd.Series(clf.feature_importances_, index=dmfraud.columns.values).sort_values(ascending=False)*100)"
   ]
  },
  {
   "cell_type": "code",
   "execution_count": 20,
   "metadata": {},
   "outputs": [],
   "source": [
    "def LogReg(dmfraud, trainX, testX, trainY, testY):\n",
    "    clf  = LogisticRegression()\n",
    "    clf.fit(trainX , trainY)\n",
    "    validationmetrics(clf,testX,testY)"
   ]
  },
  {
   "cell_type": "code",
   "execution_count": 21,
   "metadata": {},
   "outputs": [],
   "source": [
    "def KNN(dmfraud, trainX, testX, trainY, testY):\n",
    "    clf = KNeighborsClassifier()\n",
    "    clf.fit(trainX , trainY)\n",
    "    validationmetrics(clf,testX,testY)"
   ]
  },
  {
   "cell_type": "code",
   "execution_count": 27,
   "metadata": {},
   "outputs": [],
   "source": [
    "def MachineLearningwithRFFS():\n",
    "    #include all selected features in impftrs and last should be the label\n",
    "    impftrs = []\n",
    "    dmfraud = load_data()\n",
    "    #dmfraud = stringcolanalysis(dmfraud)\n",
    "    #dmfraud = numcolanalysis(dmfraud)\n",
    "    dmfraud = cleaningup(dmfraud)\n",
    "    dmfraud = dmfraud[impftrs]\n",
    "    dmfraud, trainX, testX, trainY, testY = traintestsplit(dmfraud,0.2,91) \n",
    "    dmfraud = RFfeatureimportance(dmfraud, trainX, testX, trainY, testY, 5, 91)\n",
    "    \n",
    "    print(\"\\n\\n Results for Logistic Regression.....\")\n",
    "    LogReg(dmfraud, trainX, testX, trainY, testY)\n",
    "    \n",
    "    print(\"\\n\\n Results for KNN.....\")\n",
    "    KNN(dmfraud, trainX, testX, trainY, testY)"
   ]
  },
  {
   "cell_type": "code",
   "execution_count": 28,
   "metadata": {},
   "outputs": [
    {
     "name": "stdout",
     "output_type": "stream",
     "text": [
      "(390, 20)\n",
      "dmfraud is all cleaned up..\n",
      "Prediction Vector: \n",
      " [0 1 0 1 0 1 0 0 0 0 0 0 1 0 1 0 0 0 0 0 1 0 1 0 0 0 0 0 0 1 0 1 0 1 0 1 1\n",
      " 0 0 0 1 0 0 0 0 1 0 0 0 0 0 0 1 1 1 0 0 0 0 1 0 0 1 0 1 0 0 0 0 0 0 0 0 0\n",
      " 0 0 0 0]\n",
      "Accuracy: \n",
      " 93.58974358974359\n",
      "Precision of Fraud Happening: \n",
      " 90.0\n",
      "Recall of Fraud Happening: \n",
      " 85.71428571428571\n",
      "AUC of Fraud Happening: \n",
      " 0.9110275689223057\n",
      "F-Score OF Fraud Happening:\n",
      " 0.8780487804878048\n",
      "Confusion Matrix: \n",
      " [[55  2]\n",
      " [ 3 18]]\n",
      "Expense to Revenue Ratio                  38.688557\n",
      "Working Capital Requirement               13.297776\n",
      "Net Profit Margin                         12.877282\n",
      "Liability to Equity                       11.281302\n",
      "Debt Cash Flow Coverage Ratio              4.986828\n",
      "Net Debt to Equity Ratio                   3.061095\n",
      "Fixed Asset to Debt Ratio                  2.568537\n",
      "Short Term Debt to Sales Ratio             2.501698\n",
      "Return on Equity                           2.206724\n",
      "Gross Profit Margin                        1.884359\n",
      "Return on Invested Capital                 1.773969\n",
      "Interest Coverage Ratio                    1.046829\n",
      "Long Term Debt to Asset                    0.967994\n",
      "Debt to Capital Ratio                      0.744952\n",
      "Firm Size                                  0.617827\n",
      "Long Term Debt to Tangible Asset           0.576435\n",
      "Collateral                                 0.414656\n",
      "Fixed Asset Turnover                       0.269142\n",
      "Long Term Financing of Working Capital     0.234037\n",
      "dtype: float64\n",
      "\n",
      "\n",
      " Results for Logistic Regression.....\n",
      "Prediction Vector: \n",
      " [0 1 0 1 0 1 0 0 0 0 0 0 1 0 1 0 0 0 0 0 1 0 1 0 0 0 0 1 0 1 0 1 0 1 1 1 0\n",
      " 0 0 0 1 0 0 0 0 1 0 0 0 0 0 0 1 1 1 0 0 0 0 1 0 0 1 0 0 0 0 0 0 0 0 0 0 0\n",
      " 0 0 0 0]\n",
      "Accuracy: \n",
      " 93.58974358974359\n",
      "Precision of Fraud Happening: \n",
      " 90.0\n",
      "Recall of Fraud Happening: \n",
      " 85.71428571428571\n",
      "AUC of Fraud Happening: \n",
      " 0.9110275689223057\n",
      "F-Score OF Fraud Happening:\n",
      " 0.8780487804878048\n",
      "Confusion Matrix: \n",
      " [[55  2]\n",
      " [ 3 18]]\n",
      "\n",
      "\n",
      " Results for KNN.....\n",
      "Prediction Vector: \n",
      " [0 0 0 1 0 1 0 0 0 0 0 0 1 1 0 0 0 0 0 0 1 0 0 0 0 0 0 0 1 0 0 1 0 0 0 0 0\n",
      " 0 0 0 0 0 0 0 0 0 0 0 0 0 1 0 0 0 1 0 0 0 0 0 0 0 0 0 0 0 0 0 0 0 0 0 0 0\n",
      " 0 0 0 0]\n",
      "Accuracy: \n",
      " 76.92307692307693\n",
      "Precision of Fraud Happening: \n",
      " 66.66666666666666\n",
      "Recall of Fraud Happening: \n",
      " 28.57142857142857\n",
      "AUC of Fraud Happening: \n",
      " 0.6165413533834587\n",
      "F-Score OF Fraud Happening:\n",
      " 0.4\n",
      "Confusion Matrix: \n",
      " [[54  3]\n",
      " [15  6]]\n"
     ]
    },
    {
     "name": "stderr",
     "output_type": "stream",
     "text": [
      "C:\\Users\\hp\\Anaconda3\\lib\\site-packages\\sklearn\\linear_model\\logistic.py:432: FutureWarning: Default solver will be changed to 'lbfgs' in 0.22. Specify a solver to silence this warning.\n",
      "  FutureWarning)\n"
     ]
    }
   ],
   "source": [
    "MachineLearningwithRFFS()"
   ]
  },
  {
   "cell_type": "code",
   "execution_count": null,
   "metadata": {},
   "outputs": [],
   "source": [
    "def MachineLearningwithRFFS():\n",
    "    #include all selected features in impftrs and last should be the label\n",
    "    impftrs = []\n",
    "    dmfraud = load_data()\n",
    "    #dmfraud = stringcolanalysis(dmfraud)\n",
    "    #dmfraud = numcolanalysis(dmfraud)\n",
    "    dmfraud = cleaningup(dmfraud)\n",
    "    \n",
    "    dmfraud, trainX, testX, trainY, testY = traintestsplit(dmfraud,0.2,91) \n",
    "    dmfraud = RFfeatureimportance(dmfraud, trainX, testX, trainY, testY, 5, 91)\n",
    "    \n",
    "    print(\"\\n\\n Results for Logistic Regression.....\")\n",
    "    LogReg(dmfraud, trainX, testX, trainY, testY)\n",
    "    \n",
    "    print(\"\\n\\n Results for KNN.....\")\n",
    "    KNN(dmfraud, trainX, testX, trainY, testY)"
   ]
  }
 ],
 "metadata": {
  "kernelspec": {
   "display_name": "Python 3",
   "language": "python",
   "name": "python3"
  },
  "language_info": {
   "codemirror_mode": {
    "name": "ipython",
    "version": 3
   },
   "file_extension": ".py",
   "mimetype": "text/x-python",
   "name": "python",
   "nbconvert_exporter": "python",
   "pygments_lexer": "ipython3",
   "version": "3.7.1"
  }
 },
 "nbformat": 4,
 "nbformat_minor": 2
}

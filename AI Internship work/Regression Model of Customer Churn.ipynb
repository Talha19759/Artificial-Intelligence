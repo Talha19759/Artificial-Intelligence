{
 "cells": [
  {
   "cell_type": "code",
   "execution_count": 1,
   "metadata": {},
   "outputs": [],
   "source": [
    "import pandas as pd\n",
    "import numpy as np \n",
    "import seaborn as sb\n",
    "import matplotlib.pyplot as plt\n",
    "from sklearn import preprocessing\n",
    "\n",
    "#import feature selection modules\n",
    "from sklearn.feature_selection import mutual_info_classif,RFE,RFECV\n",
    "\n",
    "#import classification modules\n",
    "from sklearn.linear_model import LogisticRegression\n",
    "from sklearn.ensemble import RandomForestClassifier\n",
    "from sklearn.neighbors import KNeighborsClassifier\n",
    "\n",
    "#import classification evaluation\n",
    "from sklearn.model_selection import train_test_split\n",
    "from sklearn.model_selection import KFold \n",
    "from sklearn.model_selection import RepeatedKFold\n",
    "from sklearn.metrics import accuracy_score\n",
    "from sklearn.metrics import confusion_matrix\n",
    "from sklearn.metrics import precision_score\n",
    "from sklearn.metrics import recall_score\n",
    "from sklearn.metrics import roc_auc_score\n",
    "from sklearn.metrics import roc_curve \n",
    "from sklearn.metrics import f1_score\n",
    "from sklearn.metrics import auc"
   ]
  },
  {
   "cell_type": "code",
   "execution_count": 114,
   "metadata": {},
   "outputs": [],
   "source": [
    "from sklearn.metrics import mean_squared_error\n",
    "from sklearn.metrics import r2_score\n",
    "from math import sqrt\n",
    "\n",
    "from sklearn.linear_model import LinearRegression\n",
    "from sklearn.ensemble import RandomForestRegressor\n",
    "from sklearn.preprocessing import PolynomialFeatures\n",
    "from sklearn.svm import SVR"
   ]
  },
  {
   "cell_type": "code",
   "execution_count": 3,
   "metadata": {},
   "outputs": [],
   "source": [
    "def load_data():\n",
    "    dmfraud = pd.read_csv('Customer Churn.csv')\n",
    "    return (dmfraud)\n",
    "dmfraud = load_data()"
   ]
  },
  {
   "cell_type": "code",
   "execution_count": 4,
   "metadata": {},
   "outputs": [],
   "source": [
    "def manual_split(dmfraud,split,random):\n",
    "    #make a copy of the label column and store in y\n",
    "    y = dmfraud['ChurnIndicator'].copy()\n",
    "    \n",
    "    #now delete the original\n",
    "    X = dmfraud.drop('ChurnIndicator',axis=1)\n",
    "    \n",
    "    #manual split\n",
    "    trainX, testX, trainY, testY= train_test_split(X, y, test_size=split, random_state=random)\n",
    "    \n",
    "    return X, trainX, testX, trainY, testY, y"
   ]
  },
  {
   "cell_type": "code",
   "execution_count": 49,
   "metadata": {},
   "outputs": [],
   "source": [
    "def validationmetrics_regression(model,testX,testY):\n",
    "    predictions = model.predict(testX)\n",
    "    print(\"Prediction Vector: \\n\", predictions)\n",
    "    \n",
    "    # predictions = predicted values for testing data\n",
    "    # testY = original values\n",
    "    \n",
    "    #MSE, if sqrt then gives RMSE\n",
    "    print(\"RMSE: \", sqrt(mean_squared_error(testY, predictions)))\n",
    "    \n",
    "    #R-squared score\n",
    "    print(\"R-squared score: \", r2_score(testY, predictions))\n",
    "    \n",
    "    #R-squared score (other methods) #multioutput = 'variance_weighted'/raw_values/uniform_average\n",
    "    print(\"R-squared score : \", r2_score(testY, predictions, multioutput='uniform_average'))\n",
    "    "
   ]
  },
  {
   "cell_type": "code",
   "execution_count": 33,
   "metadata": {},
   "outputs": [],
   "source": [
    "# Linear regression\n",
    "def LinReg(dmfraud, trainX, testX, trainY, testY):\n",
    "    clf = LinearRegression()\n",
    "    clf = clf.fit(trainX, trainY)\n",
    "    validationmetrics_regression(clf, testX, testY)"
   ]
  },
  {
   "cell_type": "code",
   "execution_count": 42,
   "metadata": {},
   "outputs": [],
   "source": [
    "# Random Forest\n",
    "def RandFor(dmfraud, trainX, testX, trainY, testY):\n",
    "    clf = RandomForestRegressor(max_depth = 2, random_state = 0)\n",
    "    clf = clf.fit(trainX, trainY)\n",
    "    validationmetrics_regression(clf, testX, testY)"
   ]
  },
  {
   "cell_type": "code",
   "execution_count": null,
   "metadata": {},
   "outputs": [],
   "source": [
    "# Support Vector Regression (SVR)\n",
    "def SupVecReg (dmfraud, trainX, trainY, testX, testY):\n",
    "    clf = SVR ()"
   ]
  },
  {
   "cell_type": "code",
   "execution_count": 110,
   "metadata": {},
   "outputs": [],
   "source": [
    "# Polynomial Regression\n",
    "# linear regression ki straight line hti hai, agr data thora upr neche hai tu we need a curve to fit it,\n",
    "# tu uske liey hmn x, x^2, x^3 chahiye hga, so we need to add polynomial degree then implement it to linearRegression model \n",
    "def PolReg(dmfraud, trainX, testX, trainY, testY):\n",
    "    \n",
    "    poly = PolynomialFeatures(degree = 5)\n",
    "    x_poly = poly.fit_transform(trainX)\n",
    "    testX=poly.fit_transform(testX)\n",
    "    clf = LinearRegression()\n",
    "    clf.fit(x_poly, trainY)\n",
    "    validationmetrics_regression(clf, testX, testY)"
   ]
  },
  {
   "cell_type": "code",
   "execution_count": 111,
   "metadata": {},
   "outputs": [],
   "source": [
    "def MachineLearningwithRFFS():\n",
    "    \n",
    "    dmfraud = load_data()\n",
    "    dmfraud, trainX, testX, trainY, testY, y = manual_split(dmfraud,0.2,91) \n",
    "    dmfraud = RFE(dmfraud, trainX, trainY,0.2)\n",
    "    \n",
    "    print ('LINEAR REGRESSION ALGORITHM\\n')\n",
    "    LinReg (dmfraud, trainX, testX, trainY, testY)\n",
    "    \n",
    "    print ('\\n\\nRANDOM FOREST CLASSIFIER\\n')\n",
    "    RandFor (dmfraud, trainX, testX, trainY, testY)\n",
    "    \n",
    "    print ('\\n\\nPOLYNOMIAL REGRESSION\\n')\n",
    "    PolReg (dmfraud, trainX, testX, trainY, testY)"
   ]
  },
  {
   "cell_type": "code",
   "execution_count": 112,
   "metadata": {},
   "outputs": [
    {
     "name": "stdout",
     "output_type": "stream",
     "text": [
      "LINEAR REGRESSION ALGORITHM\n",
      "\n",
      "Prediction Vector: \n",
      " [0.07653662 0.05581566 0.07862634 ... 0.02470191 0.02023542 0.03330086]\n",
      "RMSE:  0.04970669603285239\n",
      "R-squared score:  0.34755497679497716\n",
      "R-squared score :  0.34755497679497716\n",
      "\n",
      "\n",
      "RANDOM FOREST CLASSIFIER\n",
      "\n",
      "Prediction Vector: \n",
      " [0.05805544 0.03935325 0.09730818 ... 0.01386627 0.01386627 0.0294916 ]\n",
      "RMSE:  0.044648234866395596\n",
      "R-squared score:  0.4735917135347907\n",
      "R-squared score :  0.4735917135347907\n",
      "\n",
      "\n",
      "POLYNOMIAL REGRESSION\n",
      "\n",
      "Prediction Vector: \n",
      " [0.05461371 0.05592902 0.10811369 ... 0.01248154 0.01094884 0.02221973]\n",
      "RMSE:  0.04018131771234626\n",
      "R-squared score:  0.5736537190878842\n",
      "R-squared score :  0.5736537190878842\n"
     ]
    },
    {
     "name": "stderr",
     "output_type": "stream",
     "text": [
      "C:\\Users\\hp\\Anaconda3\\lib\\site-packages\\sklearn\\ensemble\\forest.py:245: FutureWarning: The default value of n_estimators will change from 10 in version 0.20 to 100 in 0.22.\n",
      "  \"10 in version 0.20 to 100 in 0.22.\", FutureWarning)\n"
     ]
    }
   ],
   "source": [
    "MachineLearningwithRFFS()"
   ]
  },
  {
   "cell_type": "code",
   "execution_count": null,
   "metadata": {},
   "outputs": [],
   "source": []
  }
 ],
 "metadata": {
  "kernelspec": {
   "display_name": "Python 3",
   "language": "python",
   "name": "python3"
  },
  "language_info": {
   "codemirror_mode": {
    "name": "ipython",
    "version": 3
   },
   "file_extension": ".py",
   "mimetype": "text/x-python",
   "name": "python",
   "nbconvert_exporter": "python",
   "pygments_lexer": "ipython3",
   "version": "3.7.1"
  }
 },
 "nbformat": 4,
 "nbformat_minor": 2
}
